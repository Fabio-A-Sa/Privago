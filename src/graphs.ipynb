{
 "cells": [
  {
   "cell_type": "markdown",
   "metadata": {},
   "source": [
    "## Import"
   ]
  },
  {
   "cell_type": "code",
   "execution_count": null,
   "metadata": {},
   "outputs": [],
   "source": [
    "import pandas as pd\n",
    "\n",
    "data = pd.read_json(f'../data/processed/hotel_reviews_all.json')\n",
    "\n",
    "data.head()"
   ]
  },
  {
   "cell_type": "markdown",
   "metadata": {},
   "source": [
    "## Word segmentation"
   ]
  },
  {
   "cell_type": "code",
   "execution_count": null,
   "metadata": {},
   "outputs": [],
   "source": [
    "from nltk.tokenize import sent_tokenize, word_tokenize\n",
    "import nltk\n",
    "\n",
    "nltk.download('punkt')\n",
    "nltk.download('stopwords')\n",
    "\n",
    "words_in_reviews = {}\n",
    "\n",
    "data_size = len(data)\n",
    "\n",
    "for review_index in range(len(data)):\n",
    "    mytext = data.loc[review_index, 'review_text']\n",
    "\n",
    "    my_sentences = sent_tokenize(mytext, \"english\")\n",
    "    stopwords = nltk.corpus.stopwords.words('english')\n",
    "\n",
    "    for sentence in my_sentences:\n",
    "        # Replace '.' and ',' by spaces\n",
    "        for ponctuation in ['.', ',', '<', '>']:\n",
    "            sentence = sentence.replace(ponctuation, ' ')\n",
    "\n",
    "\n",
    "        words = word_tokenize(sentence, \"english\")\n",
    "        # Filter out stopwords\n",
    "        non_stopwords = [word for word in words if word.lower() not in stopwords]\n",
    "\n",
    "        for word in non_stopwords:\n",
    "            if word in words_in_reviews.keys():\n",
    "                words_in_reviews[word] = words_in_reviews[word] + 1\n",
    "            else:\n",
    "                words_in_reviews[word] = 1\n",
    "    \n",
    "\n",
    "words_in_reviews_dict = {\n",
    "    \"word\": words_in_reviews.keys(),\n",
    "    \"count\": words_in_reviews.values(),\n",
    "}\n",
    "\n",
    "\n",
    "pd.DataFrame.from_dict(words_in_reviews_dict).to_csv('../data/analysis/words.json', index=False)\n"
   ]
  },
  {
   "cell_type": "markdown",
   "metadata": {},
   "source": [
    "# Analysis"
   ]
  },
  {
   "cell_type": "code",
   "execution_count": null,
   "metadata": {},
   "outputs": [],
   "source": [
    "\n",
    "words = pd.read_csv(f'../data/analysis/words.json')\n",
    "\n",
    "words.head()"
   ]
  },
  {
   "cell_type": "code",
   "execution_count": null,
   "metadata": {},
   "outputs": [],
   "source": [
    "word_count = []\n",
    "\n",
    "for i in range(len(words)):\n",
    "    word_count.append( (words.loc[i, \"word\"], words.loc[i, \"count\"]) )\n",
    "\n",
    "\n",
    "word_count.sort(key=lambda elem: elem[1], reverse=True)\n",
    "\n",
    "# The 10 most common words\n",
    "print(word_count[:10])"
   ]
  },
  {
   "cell_type": "markdown",
   "metadata": {},
   "source": [
    "## Plot Word Cloud\n"
   ]
  },
  {
   "cell_type": "code",
   "execution_count": null,
   "metadata": {},
   "outputs": [],
   "source": [
    "from wordcloud import WordCloud\n",
    "import matplotlib.pyplot as plt\n",
    "\n",
    "\n",
    "# the ammount of different words on the wordcloud\n",
    "limit = 200 \n",
    "\n",
    "wordcloud = WordCloud(width = 800, height = 800,\n",
    "                collocations=False,\n",
    "                background_color ='white',\n",
    "                min_font_size = 10).generate(' '.join(map(lambda x: (x[0] + \" \") * x[1], word_count[:limit])))\n",
    "\n",
    "# plot the WordCloud image\n",
    "fig = plt.figure(figsize = (8, 8), facecolor = None)\n",
    "plt.imshow(wordcloud)\n",
    "plt.axis(\"off\")\n",
    "plt.tight_layout(pad = 0)\n",
    "\n",
    "plt.show()\n",
    "\n",
    "fig.savefig('../data/plots/wordcloud.png')"
   ]
  }
 ],
 "metadata": {
  "kernelspec": {
   "display_name": "Python 3",
   "language": "python",
   "name": "python3"
  },
  "language_info": {
   "codemirror_mode": {
    "name": "ipython",
    "version": 3
   },
   "file_extension": ".py",
   "mimetype": "text/x-python",
   "name": "python",
   "nbconvert_exporter": "python",
   "pygments_lexer": "ipython3",
   "version": "3.10.12"
  },
  "orig_nbformat": 4
 },
 "nbformat": 4,
 "nbformat_minor": 2
}
